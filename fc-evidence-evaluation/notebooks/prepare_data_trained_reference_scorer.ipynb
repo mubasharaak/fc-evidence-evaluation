{
 "cells": [
  {
   "cell_type": "code",
   "execution_count": 6,
   "id": "ca992bda",
   "metadata": {},
   "outputs": [],
   "source": [
    "import os\n",
    "\n",
    "os.environ['KMP_DUPLICATE_LIB_OK']='True'\n",
    "\n",
    "import sys\n",
    "sys.path.append(sys.path[0] + \"/..\")"
   ]
  },
  {
   "cell_type": "code",
   "execution_count": 7,
   "id": "93795a9c",
   "metadata": {},
   "outputs": [],
   "source": [
    "import json\n",
    "import os\n",
    "import properties\n",
    "import pymysql\n",
    "import random\n",
    "import utils\n",
    "\n",
    "import pandas as pd \n",
    "\n",
    "random.seed(10)"
   ]
  },
  {
   "cell_type": "code",
   "execution_count": 229,
   "id": "436d2584",
   "metadata": {},
   "outputs": [],
   "source": [
    "cur.close()\n",
    "conn.close()\n"
   ]
  },
  {
   "cell_type": "markdown",
   "id": "e2c97afa",
   "metadata": {},
   "source": [
    "### FEVER data preparation"
   ]
  },
  {
   "cell_type": "code",
   "execution_count": 230,
   "id": "d5f28a99",
   "metadata": {},
   "outputs": [],
   "source": [
    "# FEVER Wikipedia DB\n",
    "\n",
    "mysql_host = os.getenv(\"HOST\", \"localhost\")\n",
    "mysql_port = int(os.getenv(\"PORT\", \"3306\"))\n",
    "mysql_user = os.getenv(\"USER\", \"root\")\n",
    "mysql_pass = os.getenv(\"PASS\", \"DimeMP01!\")\n",
    "mysql_db = os.getenv(\"DB\", \"fever\")\n",
    "\n",
    "conn = pymysql.connect(host=\"localhost\", port=3306, user=\"root\", password=\"DimeMP01!\", db=\"fever\")\n",
    "CUR = conn.cursor()"
   ]
  },
  {
   "cell_type": "code",
   "execution_count": 231,
   "id": "0fe4ba84",
   "metadata": {},
   "outputs": [],
   "source": [
    "def _get_wiki_evidence(wiki_id: str, sent_idx: int) -> str:\n",
    "    query = \"SELECT * FROM fever.wiki_pages where id='{}'\".format(wiki_id)\n",
    "    CUR.execute(query)\n",
    "    \n",
    "    try:\n",
    "        entry = next(CUR)\n",
    "        texts = entry[1].split(\"\\n\")\n",
    "        text = texts[sent_idx].split(\"\\t\")[1]\n",
    "        return text\n",
    "    except Exception as e:\n",
    "        print(\"No entry in wiki database for id = {}\".format(wiki_id))\n",
    "    "
   ]
  },
  {
   "cell_type": "code",
   "execution_count": 151,
   "id": "9da5e453",
   "metadata": {},
   "outputs": [],
   "source": [
    "def _load_wiki_db(wiki_db_path = \"/Users/user/Downloads/wiki-pages/wiki-pages-jsons\"):\n",
    "    wiki_entries = {}\n",
    "    for file in os.listdir(wiki_db_path):\n",
    "        with open(os.path.join(wiki_db_path, file)) as f:\n",
    "            entry = json.load(f)\n",
    "            wiki_entries[entry['id']] = entry['lines']\n",
    "            \n",
    "    return wiki_entries\n",
    "\n",
    "# wiki_db = _load_wiki_db()\n",
    "wiki_db = pd.read_csv(\"/Users/user/Downloads/wiki-pages/wiki-pages.csv\")"
   ]
  },
  {
   "cell_type": "code",
   "execution_count": 233,
   "id": "50e2fe80",
   "metadata": {},
   "outputs": [
    {
     "data": {
      "text/html": [
       "<div>\n",
       "<style scoped>\n",
       "    .dataframe tbody tr th:only-of-type {\n",
       "        vertical-align: middle;\n",
       "    }\n",
       "\n",
       "    .dataframe tbody tr th {\n",
       "        vertical-align: top;\n",
       "    }\n",
       "\n",
       "    .dataframe thead th {\n",
       "        text-align: right;\n",
       "    }\n",
       "</style>\n",
       "<table border=\"1\" class=\"dataframe\">\n",
       "  <thead>\n",
       "    <tr style=\"text-align: right;\">\n",
       "      <th></th>\n",
       "      <th>Unnamed: 0</th>\n",
       "      <th>id</th>\n",
       "      <th>text</th>\n",
       "      <th>lines</th>\n",
       "    </tr>\n",
       "  </thead>\n",
       "  <tbody>\n",
       "    <tr>\n",
       "      <th>0</th>\n",
       "      <td>0</td>\n",
       "      <td>Snakebite_-LRB-album-RRB-</td>\n",
       "      <td>Snakebite is the first official release by the...</td>\n",
       "      <td>0\\tSnakebite is the first official release by ...</td>\n",
       "    </tr>\n",
       "    <tr>\n",
       "      <th>1</th>\n",
       "      <td>1</td>\n",
       "      <td>Sin_Sukju</td>\n",
       "      <td>Sin Suk-ju -LRB- Korean : 신숙주 , hanja : 申叔舟 ; ...</td>\n",
       "      <td>0\\tSin Suk-ju -LRB- Korean : 신숙주 , hanja : 申叔舟...</td>\n",
       "    </tr>\n",
       "    <tr>\n",
       "      <th>2</th>\n",
       "      <td>2</td>\n",
       "      <td>South_Oroville,_California</td>\n",
       "      <td>South Oroville is a census-designated place -L...</td>\n",
       "      <td>0\\tSouth Oroville is a census-designated place...</td>\n",
       "    </tr>\n",
       "    <tr>\n",
       "      <th>3</th>\n",
       "      <td>3</td>\n",
       "      <td>Southwest_Golf_Classic</td>\n",
       "      <td>The Southwest Golf Classic was a PGA Tour even...</td>\n",
       "      <td>0\\tThe Southwest Golf Classic was a PGA Tour e...</td>\n",
       "    </tr>\n",
       "    <tr>\n",
       "      <th>4</th>\n",
       "      <td>4</td>\n",
       "      <td>St._Philip's_Cathedral,_San_Felipe</td>\n",
       "      <td>The St. Philip 's Cathedral -LRB- Catedral de ...</td>\n",
       "      <td>0\\tThe St. Philip 's Cathedral -LRB- Catedral ...</td>\n",
       "    </tr>\n",
       "  </tbody>\n",
       "</table>\n",
       "</div>"
      ],
      "text/plain": [
       "   Unnamed: 0                                  id  \\\n",
       "0           0           Snakebite_-LRB-album-RRB-   \n",
       "1           1                           Sin_Sukju   \n",
       "2           2          South_Oroville,_California   \n",
       "3           3              Southwest_Golf_Classic   \n",
       "4           4  St._Philip's_Cathedral,_San_Felipe   \n",
       "\n",
       "                                                text  \\\n",
       "0  Snakebite is the first official release by the...   \n",
       "1  Sin Suk-ju -LRB- Korean : 신숙주 , hanja : 申叔舟 ; ...   \n",
       "2  South Oroville is a census-designated place -L...   \n",
       "3  The Southwest Golf Classic was a PGA Tour even...   \n",
       "4  The St. Philip 's Cathedral -LRB- Catedral de ...   \n",
       "\n",
       "                                               lines  \n",
       "0  0\\tSnakebite is the first official release by ...  \n",
       "1  0\\tSin Suk-ju -LRB- Korean : 신숙주 , hanja : 申叔舟...  \n",
       "2  0\\tSouth Oroville is a census-designated place...  \n",
       "3  0\\tThe Southwest Golf Classic was a PGA Tour e...  \n",
       "4  0\\tThe St. Philip 's Cathedral -LRB- Catedral ...  "
      ]
     },
     "execution_count": 233,
     "metadata": {},
     "output_type": "execute_result"
    }
   ],
   "source": [
    "wiki_db.head()"
   ]
  },
  {
   "cell_type": "code",
   "execution_count": 287,
   "id": "77c6a8da",
   "metadata": {},
   "outputs": [],
   "source": [
    "# load fever training data\n",
    "fever_train_path = \"/Users/user/Library/CloudStorage/OneDrive-King'sCollegeLondon/PycharmProjects/fc-evidence-evaluation/data/fever/paper_dev.jsonl\"\n",
    "train = utils.load_jsonl_file(fever_train_path)"
   ]
  },
  {
   "cell_type": "code",
   "execution_count": 288,
   "id": "65a21117",
   "metadata": {},
   "outputs": [],
   "source": [
    "# filter entries with more than one evidence set\n",
    "train_multi_evidence = [entry for entry in train if len(entry['evidence'])>1]"
   ]
  },
  {
   "cell_type": "code",
   "execution_count": 289,
   "id": "e3870a23",
   "metadata": {},
   "outputs": [
    {
     "name": "stdout",
     "output_type": "stream",
     "text": [
      "Initial entries: 9999\n",
      "Entries with more than one evidence sets: 1832\n"
     ]
    }
   ],
   "source": [
    "print(\"Initial entries: {}\".format(len(train)))\n",
    "print(\"Entries with more than one evidence sets: {}\".format(len(train_multi_evidence)))\n"
   ]
  },
  {
   "cell_type": "code",
   "execution_count": 290,
   "id": "7d73171c",
   "metadata": {},
   "outputs": [],
   "source": [
    "POS_SAMPLE = {\n",
    "    \"claim\": \"\",\n",
    "    \"reference\": \"\",\n",
    "    \"target\": \"\",\n",
    "    \"score\": 1,\n",
    "    \"label\": None\n",
    "}\n",
    "_EVIDENCE_FORMAT = \"Title: {}; {}\"\n",
    "\n",
    "def _get_wiki_evidence(wiki_id: str, sentence_idx: int): \n",
    "    entry = wiki_db[wiki_db.id==wiki_id]\n",
    "    sentences = list(entry.to_dict()[\"lines\"].values())[0]\n",
    "    sentence = sentences.split(\"\\n\")[sentence_idx]\n",
    "    return sentence.split(\"\\t\")[1]\n",
    "    \n",
    "\n",
    "def _get_evidence_text(evidence_set: list):\n",
    "    evidence_text = []\n",
    "    for evidence in evidence_set:\n",
    "        sentence = _get_wiki_evidence(evidence[2], evidence[3])\n",
    "        evidence_text.append(_EVIDENCE_FORMAT.format(evidence[2], sentence))\n",
    "        \n",
    "    return \" \".join(evidence_text)\n",
    "\n",
    "def _format_claim_evidence(claim, evidence_set):\n",
    "    return claim + \" \" + _get_evidence_text(evidence_set)\n"
   ]
  },
  {
   "cell_type": "code",
   "execution_count": 291,
   "id": "d59dc20f",
   "metadata": {},
   "outputs": [
    {
     "name": "stdout",
     "output_type": "stream",
     "text": [
      "For 1832 multi evidence entries, 2527 bleurt training samples created\n"
     ]
    }
   ],
   "source": [
    "# prepare training set of POSITIVE samples (similarity score == 1)\n",
    "bleurt_training_data = []\n",
    "\n",
    "for entry in train_multi_evidence: \n",
    "    try:\n",
    "        claim = entry['claim']\n",
    "        targets = []\n",
    "\n",
    "        for i in range(len(entry[\"evidence\"])-1):\n",
    "            reference = _format_claim_evidence(entry['claim'], entry[\"evidence\"][i])\n",
    "            target = _format_claim_evidence(entry['claim'], entry[\"evidence\"][i+1])\n",
    "            if target != reference:\n",
    "                new_entry = POS_SAMPLE.copy()\n",
    "                new_entry['claim'] = entry['claim']\n",
    "                new_entry['reference'] = reference\n",
    "                new_entry['target'] = target\n",
    "                new_entry['label'] = entry['label']\n",
    "                bleurt_training_data.append(new_entry)\n",
    "    except Exception as e: \n",
    "#         print(\"Exception for claim: {}\".format(claim))\n",
    "        continue\n",
    "\n",
    "print(\"For {} multi evidence entries, {} bleurt training samples created\".format(len(train_multi_evidence), \n",
    "                                                                                 len(bleurt_training_data)))"
   ]
  },
  {
   "cell_type": "code",
   "execution_count": 292,
   "id": "04ea0784",
   "metadata": {},
   "outputs": [
    {
     "name": "stdout",
     "output_type": "stream",
     "text": [
      "2527 negative bleurt training samples created\n"
     ]
    }
   ],
   "source": [
    "# prepare training set of NEGATIVE samples (similarity score == 1)\n",
    "bleurt_training_data_neg_samples = []\n",
    "\n",
    "for entry in bleurt_training_data: \n",
    "    claim = entry['claim']\n",
    "    reference = entry['reference']\n",
    "    \n",
    "    while True:\n",
    "        # randomly select target from another entry which is for a different claim \n",
    "        rand_entry = random.sample(bleurt_training_data, 1)[0]\n",
    "        if rand_entry['claim'] != claim:\n",
    "            break\n",
    "    \n",
    "    new_entry = POS_SAMPLE.copy()\n",
    "    new_entry['claim'] = claim\n",
    "    new_entry['reference'] = reference\n",
    "    new_entry['target'] = claim + \" \" + \" \".join(rand_entry[\"reference\"].split(\". \")[1:])\n",
    "    new_entry['score'] = 0\n",
    "    bleurt_training_data_neg_samples.append(new_entry)\n",
    "\n",
    "print(\"{} negative bleurt training samples created\".format(len(bleurt_training_data_neg_samples)))  "
   ]
  },
  {
   "cell_type": "code",
   "execution_count": 293,
   "id": "d69f6a12",
   "metadata": {},
   "outputs": [
    {
     "name": "stdout",
     "output_type": "stream",
     "text": [
      "5054\n"
     ]
    }
   ],
   "source": [
    "# Extend bleurt trianing data with negative samples\n",
    "bleurt_training_data.extend(bleurt_training_data_neg_samples)\n",
    "print(len(bleurt_training_data))"
   ]
  },
  {
   "cell_type": "code",
   "execution_count": 294,
   "id": "63039bc9",
   "metadata": {},
   "outputs": [],
   "source": [
    "# save bleurt training data as jsonl file\n",
    "def to_dict(obj):\n",
    "    return json.loads(json.dumps(obj, default=lambda o: o.__dict__))\n",
    "\n",
    "def save_jsonl_file(data, file_path):\n",
    "    with open(file_path, \"w\", encoding=\"utf-8\") as f:\n",
    "        for entry in data:\n",
    "            json.dump(to_dict(entry), f)\n",
    "            f.write(\"\\n\")\n",
    "\n",
    "training_data_path = \"/Users/user/Library/CloudStorage/OneDrive-King'sCollegeLondon/PycharmProjects/fc-evidence-evaluation/data/reference_scorer_training_data\"\n",
    "\n",
    "save_jsonl_file(bleurt_training_data, os.path.join(training_data_path, \"fever_dev_based.jsonl\"))\n"
   ]
  },
  {
   "cell_type": "markdown",
   "id": "b2890662",
   "metadata": {},
   "source": [
    "### Merge all files for BLEURT finetuning "
   ]
  },
  {
   "cell_type": "code",
   "execution_count": 8,
   "id": "5ba595f1",
   "metadata": {},
   "outputs": [],
   "source": [
    "# load all training data and merge \n",
    "SPLIT = \"test\"\n",
    "PATH = \"/Users/user/Library/CloudStorage/OneDrive-King'sCollegeLondon/PycharmProjects/fc-evidence-evaluation/data/reference_scorer_training_data\""
   ]
  },
  {
   "cell_type": "code",
   "execution_count": 9,
   "id": "054c4961",
   "metadata": {},
   "outputs": [],
   "source": [
    "# load all test data and merge \n",
    "def to_dict(obj):\n",
    "    return json.loads(json.dumps(obj, default=lambda o: o.__dict__))\n",
    "\n",
    "def save_jsonl_file(data, file_path):\n",
    "    with open(file_path, \"w\", encoding=\"utf-8\") as f:\n",
    "        for entry in data:\n",
    "            json.dump(to_dict(entry), f)\n",
    "            f.write(\"\\n\")\n",
    "            \n",
    "def load_jsonl_file(file_path, dataclass=None):\n",
    "    content = []\n",
    "    with open(file_path, \"r\", encoding=\"utf-8\") as f:\n",
    "        for entry in f.readlines():\n",
    "            if dataclass:\n",
    "                content.append(dacite.from_dict(data_class=dataclass, data=json.loads(entry)))\n",
    "            else:\n",
    "                content.append(json.loads(entry))\n",
    "    return content\n",
    "\n",
    "def _merge_files(split: str):\n",
    "    # load all training data and merge \n",
    "    output_filename = \"bleurt_finetune_{}.jsonl\".format(split)\n",
    "    data = []\n",
    "\n",
    "    for file in os.listdir(PATH):\n",
    "        if split in file and \"bleurt\" not in file:\n",
    "            data.extend(load_jsonl_file(os.path.join(PATH, file)))\n",
    "\n",
    "    save_jsonl_file(data, os.path.join(PATH, output_filename))"
   ]
  },
  {
   "cell_type": "code",
   "execution_count": 10,
   "id": "796c93e8",
   "metadata": {},
   "outputs": [],
   "source": [
    "_merge_files(\"train\")\n",
    "# _merge_files(\"test\")\n",
    "# _merge_files(\"dev\")"
   ]
  },
  {
   "cell_type": "markdown",
   "id": "67e2c589",
   "metadata": {},
   "source": [
    "### TEST fever dataset loading"
   ]
  },
  {
   "cell_type": "code",
   "execution_count": 15,
   "id": "fbc93bd1",
   "metadata": {},
   "outputs": [],
   "source": [
    "import pymysql\n",
    "import utils\n",
    "\n",
    "path = \"/Users/user/Library/CloudStorage/OneDrive-King'sCollegeLondon/PycharmProjects/fc-evidence-evaluation/data/fever/paper_dev.jsonl\"\n",
    "_FEVER_DB_PW = open('/Users/user/Desktop/fever_db_pw.txt', 'r').read()\n",
    "\n",
    "wiki_db = pymysql.connect(host=\"localhost\", port=3306, user=\"root\", password=_FEVER_DB_PW, db=\"fever\")\n"
   ]
  },
  {
   "cell_type": "code",
   "execution_count": 16,
   "id": "dd886415",
   "metadata": {},
   "outputs": [
    {
     "ename": "KeyError",
     "evalue": "1",
     "output_type": "error",
     "traceback": [
      "\u001b[0;31m---------------------------------------------------------------------------\u001b[0m",
      "\u001b[0;31mKeyError\u001b[0m                                  Traceback (most recent call last)",
      "\u001b[0;32m/var/folders/x7/b6tgwcrn1rz_zffbw59v8crr0000gp/T/ipykernel_51303/1469805930.py\u001b[0m in \u001b[0;36m<module>\u001b[0;34m\u001b[0m\n\u001b[0;32m----> 1\u001b[0;31m \u001b[0mfever_ds\u001b[0m \u001b[0;34m=\u001b[0m \u001b[0mutils\u001b[0m\u001b[0;34m.\u001b[0m\u001b[0mread_fever_dataset\u001b[0m\u001b[0;34m(\u001b[0m\u001b[0mpath\u001b[0m\u001b[0;34m)\u001b[0m\u001b[0;34m\u001b[0m\u001b[0;34m\u001b[0m\u001b[0m\n\u001b[0m",
      "\u001b[0;32m~/Library/CloudStorage/OneDrive-King'sCollegeLondon/PycharmProjects/fc-evidence-evaluation/fc-evidence-evaluation/notebooks/../utils.py\u001b[0m in \u001b[0;36mread_fever_dataset\u001b[0;34m(file_path)\u001b[0m\n\u001b[1;32m     42\u001b[0m                 0]\n\u001b[1;32m     43\u001b[0m             \u001b[0mprint\u001b[0m\u001b[0;34m(\u001b[0m\u001b[0mdoc\u001b[0m\u001b[0;34m)\u001b[0m\u001b[0;34m\u001b[0m\u001b[0;34m\u001b[0m\u001b[0m\n\u001b[0;32m---> 44\u001b[0;31m             \u001b[0;31m# retrieve relevant sentence as evidence\u001b[0m\u001b[0;34m\u001b[0m\u001b[0;34m\u001b[0m\u001b[0m\n\u001b[0m\u001b[1;32m     45\u001b[0m             \u001b[0mevidence_text\u001b[0m \u001b[0;34m+=\u001b[0m \u001b[0msent_tokenize\u001b[0m\u001b[0;34m(\u001b[0m\u001b[0mdoc\u001b[0m\u001b[0;34m[\u001b[0m\u001b[0;36m1\u001b[0m\u001b[0;34m]\u001b[0m\u001b[0;34m)\u001b[0m\u001b[0;34m[\u001b[0m\u001b[0me\u001b[0m\u001b[0;34m[\u001b[0m\u001b[0;36m3\u001b[0m\u001b[0;34m]\u001b[0m\u001b[0;34m]\u001b[0m\u001b[0;34m\u001b[0m\u001b[0;34m\u001b[0m\u001b[0m\n\u001b[1;32m     46\u001b[0m         \u001b[0;32mexcept\u001b[0m \u001b[0mException\u001b[0m \u001b[0;32mas\u001b[0m \u001b[0me\u001b[0m\u001b[0;34m:\u001b[0m\u001b[0;34m\u001b[0m\u001b[0;34m\u001b[0m\u001b[0m\n",
      "\u001b[0;31mKeyError\u001b[0m: 1"
     ]
    }
   ],
   "source": [
    "fever_ds = utils.read_fever_dataset(path)\n"
   ]
  },
  {
   "cell_type": "code",
   "execution_count": 18,
   "id": "f24a7963",
   "metadata": {},
   "outputs": [],
   "source": []
  },
  {
   "cell_type": "code",
   "execution_count": null,
   "id": "293d2259",
   "metadata": {},
   "outputs": [],
   "source": []
  },
  {
   "cell_type": "code",
   "execution_count": null,
   "id": "5d372c3b",
   "metadata": {},
   "outputs": [],
   "source": []
  },
  {
   "cell_type": "code",
   "execution_count": null,
   "id": "8a813480",
   "metadata": {},
   "outputs": [],
   "source": []
  },
  {
   "cell_type": "code",
   "execution_count": null,
   "id": "cd09b877",
   "metadata": {},
   "outputs": [],
   "source": []
  },
  {
   "cell_type": "code",
   "execution_count": null,
   "id": "55246ede",
   "metadata": {},
   "outputs": [],
   "source": []
  }
 ],
 "metadata": {
  "kernelspec": {
   "display_name": "Python 3 (ipykernel)",
   "language": "python",
   "name": "python3"
  },
  "language_info": {
   "codemirror_mode": {
    "name": "ipython",
    "version": 3
   },
   "file_extension": ".py",
   "mimetype": "text/x-python",
   "name": "python",
   "nbconvert_exporter": "python",
   "pygments_lexer": "ipython3",
   "version": "3.9.13"
  }
 },
 "nbformat": 4,
 "nbformat_minor": 5
}

{
 "cells": [
  {
   "cell_type": "code",
   "execution_count": 83,
   "id": "b6a0fc01",
   "metadata": {},
   "outputs": [],
   "source": [
    "import sys\n",
    "sys.path.append(sys.path[0] + \"/..\")"
   ]
  },
  {
   "cell_type": "code",
   "execution_count": 150,
   "id": "77afc159",
   "metadata": {},
   "outputs": [],
   "source": [
    "import json\n",
    "import os\n",
    "import properties\n",
    "import pymysql\n",
    "import random\n",
    "import utils\n",
    "\n",
    "import pandas as pd \n",
    "\n",
    "random.seed(10)"
   ]
  },
  {
   "cell_type": "code",
   "execution_count": null,
   "id": "7aa60f45",
   "metadata": {},
   "outputs": [],
   "source": [
    "cur.close()\n",
    "conn.close()\n"
   ]
  },
  {
   "cell_type": "markdown",
   "id": "e6e2a40c",
   "metadata": {},
   "source": [
    "### FEVER data preparation"
   ]
  },
  {
   "cell_type": "code",
   "execution_count": 90,
   "id": "7d7985ca",
   "metadata": {},
   "outputs": [],
   "source": [
    "# FEVER Wikipedia DB\n",
    "\n",
    "mysql_host = os.getenv(\"HOST\", \"localhost\")\n",
    "mysql_port = int(os.getenv(\"PORT\", \"3306\"))\n",
    "mysql_user = os.getenv(\"USER\", \"root\")\n",
    "mysql_pass = os.getenv(\"PASS\", \"DimeMP01!\")\n",
    "mysql_db = os.getenv(\"DB\", \"fever\")\n",
    "\n",
    "conn = pymysql.connect(host=\"localhost\", port=3306, user=\"root\", password=\"DimeMP01!\", db=\"fever\")\n",
    "CUR = conn.cursor()"
   ]
  },
  {
   "cell_type": "code",
   "execution_count": 91,
   "id": "730a0d47",
   "metadata": {},
   "outputs": [],
   "source": [
    "def _get_wiki_evidence(wiki_id: str, sent_idx: int) -> str:\n",
    "    query = \"SELECT * FROM fever.wiki_pages where id='{}'\".format(wiki_id)\n",
    "    CUR.execute(query)\n",
    "    \n",
    "    try:\n",
    "        entry = next(CUR)\n",
    "        texts = entry[1].split(\"\\n\")\n",
    "        text = texts[sent_idx].split(\"\\t\")[1]\n",
    "        return text\n",
    "    except Exception as e:\n",
    "        print(\"No entry in wiki database for id = {}\".format(wiki_id))\n",
    "    "
   ]
  },
  {
   "cell_type": "code",
   "execution_count": 92,
   "id": "29282403",
   "metadata": {},
   "outputs": [
    {
     "data": {
      "text/plain": [
       "'Snakebite is the first official release by the British hard rock band Whitesnake .'"
      ]
     },
     "execution_count": 92,
     "metadata": {},
     "output_type": "execute_result"
    }
   ],
   "source": [
    "_get_wiki_evidence(\"Snakebite_-LRB-album-RRB-\", 0)"
   ]
  },
  {
   "cell_type": "code",
   "execution_count": 151,
   "id": "119eb85c",
   "metadata": {},
   "outputs": [],
   "source": [
    "def _load_wiki_db(wiki_db_path = \"/Users/user/Downloads/wiki-pages/wiki-pages-jsons\"):\n",
    "    wiki_entries = {}\n",
    "    for file in os.listdir(wiki_db_path):\n",
    "        with open(os.path.join(wiki_db_path, file)) as f:\n",
    "            entry = json.load(f)\n",
    "            wiki_entries[entry['id']] = entry['lines']\n",
    "            \n",
    "    return wiki_entries\n",
    "\n",
    "# wiki_db = _load_wiki_db()\n",
    "wiki_db = pd.read_csv(\"/Users/user/Downloads/wiki-pages/wiki-pages.csv\")"
   ]
  },
  {
   "cell_type": "code",
   "execution_count": 154,
   "id": "b4d3368b",
   "metadata": {},
   "outputs": [
    {
     "data": {
      "text/html": [
       "<div>\n",
       "<style scoped>\n",
       "    .dataframe tbody tr th:only-of-type {\n",
       "        vertical-align: middle;\n",
       "    }\n",
       "\n",
       "    .dataframe tbody tr th {\n",
       "        vertical-align: top;\n",
       "    }\n",
       "\n",
       "    .dataframe thead th {\n",
       "        text-align: right;\n",
       "    }\n",
       "</style>\n",
       "<table border=\"1\" class=\"dataframe\">\n",
       "  <thead>\n",
       "    <tr style=\"text-align: right;\">\n",
       "      <th></th>\n",
       "      <th>Unnamed: 0</th>\n",
       "      <th>id</th>\n",
       "      <th>text</th>\n",
       "      <th>lines</th>\n",
       "    </tr>\n",
       "  </thead>\n",
       "  <tbody>\n",
       "    <tr>\n",
       "      <th>0</th>\n",
       "      <td>0</td>\n",
       "      <td>Snakebite_-LRB-album-RRB-</td>\n",
       "      <td>Snakebite is the first official release by the...</td>\n",
       "      <td>0\\tSnakebite is the first official release by ...</td>\n",
       "    </tr>\n",
       "    <tr>\n",
       "      <th>1</th>\n",
       "      <td>1</td>\n",
       "      <td>Sin_Sukju</td>\n",
       "      <td>Sin Suk-ju -LRB- Korean : 신숙주 , hanja : 申叔舟 ; ...</td>\n",
       "      <td>0\\tSin Suk-ju -LRB- Korean : 신숙주 , hanja : 申叔舟...</td>\n",
       "    </tr>\n",
       "    <tr>\n",
       "      <th>2</th>\n",
       "      <td>2</td>\n",
       "      <td>South_Oroville,_California</td>\n",
       "      <td>South Oroville is a census-designated place -L...</td>\n",
       "      <td>0\\tSouth Oroville is a census-designated place...</td>\n",
       "    </tr>\n",
       "    <tr>\n",
       "      <th>3</th>\n",
       "      <td>3</td>\n",
       "      <td>Southwest_Golf_Classic</td>\n",
       "      <td>The Southwest Golf Classic was a PGA Tour even...</td>\n",
       "      <td>0\\tThe Southwest Golf Classic was a PGA Tour e...</td>\n",
       "    </tr>\n",
       "    <tr>\n",
       "      <th>4</th>\n",
       "      <td>4</td>\n",
       "      <td>St._Philip's_Cathedral,_San_Felipe</td>\n",
       "      <td>The St. Philip 's Cathedral -LRB- Catedral de ...</td>\n",
       "      <td>0\\tThe St. Philip 's Cathedral -LRB- Catedral ...</td>\n",
       "    </tr>\n",
       "  </tbody>\n",
       "</table>\n",
       "</div>"
      ],
      "text/plain": [
       "   Unnamed: 0                                  id  \\\n",
       "0           0           Snakebite_-LRB-album-RRB-   \n",
       "1           1                           Sin_Sukju   \n",
       "2           2          South_Oroville,_California   \n",
       "3           3              Southwest_Golf_Classic   \n",
       "4           4  St._Philip's_Cathedral,_San_Felipe   \n",
       "\n",
       "                                                text  \\\n",
       "0  Snakebite is the first official release by the...   \n",
       "1  Sin Suk-ju -LRB- Korean : 신숙주 , hanja : 申叔舟 ; ...   \n",
       "2  South Oroville is a census-designated place -L...   \n",
       "3  The Southwest Golf Classic was a PGA Tour even...   \n",
       "4  The St. Philip 's Cathedral -LRB- Catedral de ...   \n",
       "\n",
       "                                               lines  \n",
       "0  0\\tSnakebite is the first official release by ...  \n",
       "1  0\\tSin Suk-ju -LRB- Korean : 신숙주 , hanja : 申叔舟...  \n",
       "2  0\\tSouth Oroville is a census-designated place...  \n",
       "3  0\\tThe Southwest Golf Classic was a PGA Tour e...  \n",
       "4  0\\tThe St. Philip 's Cathedral -LRB- Catedral ...  "
      ]
     },
     "execution_count": 154,
     "metadata": {},
     "output_type": "execute_result"
    }
   ],
   "source": [
    "wiki_db.head()"
   ]
  },
  {
   "cell_type": "code",
   "execution_count": 161,
   "id": "60fb20b9",
   "metadata": {},
   "outputs": [
    {
     "data": {
      "text/html": [
       "<div>\n",
       "<style scoped>\n",
       "    .dataframe tbody tr th:only-of-type {\n",
       "        vertical-align: middle;\n",
       "    }\n",
       "\n",
       "    .dataframe tbody tr th {\n",
       "        vertical-align: top;\n",
       "    }\n",
       "\n",
       "    .dataframe thead th {\n",
       "        text-align: right;\n",
       "    }\n",
       "</style>\n",
       "<table border=\"1\" class=\"dataframe\">\n",
       "  <thead>\n",
       "    <tr style=\"text-align: right;\">\n",
       "      <th></th>\n",
       "      <th>Unnamed: 0</th>\n",
       "      <th>id</th>\n",
       "      <th>text</th>\n",
       "      <th>lines</th>\n",
       "    </tr>\n",
       "  </thead>\n",
       "  <tbody>\n",
       "    <tr>\n",
       "      <th>1839206</th>\n",
       "      <td>1839206</td>\n",
       "      <td>Selena</td>\n",
       "      <td>Selena Quintanilla-Pérez -LRB- -LSB- seˈlena k...</td>\n",
       "      <td>0\\tSelena Quintanilla-Pérez -LRB- -LSB- seˈlen...</td>\n",
       "    </tr>\n",
       "  </tbody>\n",
       "</table>\n",
       "</div>"
      ],
      "text/plain": [
       "         Unnamed: 0      id  \\\n",
       "1839206     1839206  Selena   \n",
       "\n",
       "                                                      text  \\\n",
       "1839206  Selena Quintanilla-Pérez -LRB- -LSB- seˈlena k...   \n",
       "\n",
       "                                                     lines  \n",
       "1839206  0\\tSelena Quintanilla-Pérez -LRB- -LSB- seˈlen...  "
      ]
     },
     "execution_count": 161,
     "metadata": {},
     "output_type": "execute_result"
    }
   ],
   "source": [
    "entry = wiki_db[wiki_db.id==\"Selena\"]\n"
   ]
  },
  {
   "cell_type": "code",
   "execution_count": 217,
   "id": "76e77f38",
   "metadata": {},
   "outputs": [],
   "source": [
    "# load fever training data\n",
    "fever_train_path = \"/Users/user/Library/CloudStorage/OneDrive-King'sCollegeLondon/PycharmProjects/fc-evidence-evaluation/data/fever/paper_test.jsonl\"\n",
    "train = utils.load_jsonl_file(fever_train_path)"
   ]
  },
  {
   "cell_type": "code",
   "execution_count": 218,
   "id": "560374c7",
   "metadata": {},
   "outputs": [
    {
     "data": {
      "text/plain": [
       "{'id': 113501,\n",
       " 'verifiable': 'NOT VERIFIABLE',\n",
       " 'label': 'NOT ENOUGH INFO',\n",
       " 'claim': 'Grease had bad reviews.',\n",
       " 'evidence': [[[133128, None, None, None]]]}"
      ]
     },
     "execution_count": 218,
     "metadata": {},
     "output_type": "execute_result"
    }
   ],
   "source": [
    "index = 0\n",
    "train[index]"
   ]
  },
  {
   "cell_type": "code",
   "execution_count": 219,
   "id": "56c6b47a",
   "metadata": {},
   "outputs": [
    {
     "name": "stdout",
     "output_type": "stream",
     "text": [
      "1\n"
     ]
    },
    {
     "data": {
      "text/plain": [
       "[[[133128, None, None, None]]]"
      ]
     },
     "execution_count": 219,
     "metadata": {},
     "output_type": "execute_result"
    }
   ],
   "source": [
    "print(len(train[index]['evidence']))\n",
    "train[index]['evidence']"
   ]
  },
  {
   "cell_type": "code",
   "execution_count": 220,
   "id": "289274f8",
   "metadata": {},
   "outputs": [],
   "source": [
    "# filter entries with more than one evidence set\n",
    "train_multi_evidence = [entry for entry in train if len(entry['evidence'])>1]"
   ]
  },
  {
   "cell_type": "code",
   "execution_count": 221,
   "id": "84f9158f",
   "metadata": {},
   "outputs": [
    {
     "name": "stdout",
     "output_type": "stream",
     "text": [
      "Initial entries: 9999\n",
      "Entries with more than one evidence sets: 1818\n"
     ]
    }
   ],
   "source": [
    "print(\"Initial entries: {}\".format(len(train)))\n",
    "print(\"Entries with more than one evidence sets: {}\".format(len(train_multi_evidence)))\n"
   ]
  },
  {
   "cell_type": "code",
   "execution_count": 222,
   "id": "d430e56f",
   "metadata": {},
   "outputs": [],
   "source": [
    "POS_SAMPLE = {\n",
    "    \"claim\": \"\",\n",
    "    \"reference\": \"\",\n",
    "    \"target\": \"\",\n",
    "    \"score\": 1,\n",
    "}\n",
    "\n",
    "def _get_wiki_evidence(wiki_id: str, sentence_idx: int): \n",
    "    entry = wiki_db[wiki_db.id==wiki_id]\n",
    "    sentences = list(entry.to_dict()[\"lines\"].values())[0]\n",
    "    sentence = sentences.split(\"\\n\")[sentence_idx]\n",
    "    return sentence.split(\"\\t\")[1]\n",
    "    \n",
    "\n",
    "def _get_evidence_text(evidence_set: list):\n",
    "    evidence_text = []\n",
    "    for evidence in evidence_set:\n",
    "        sentence = _get_wiki_evidence(evidence[2], evidence[3])\n",
    "        evidence_text.append(sentence)\n",
    "        \n",
    "    return \" \".join(evidence_text)"
   ]
  },
  {
   "cell_type": "code",
   "execution_count": 223,
   "id": "00c3895a",
   "metadata": {},
   "outputs": [
    {
     "name": "stdout",
     "output_type": "stream",
     "text": [
      "For 300 multi evidence entires, 355 bleurt training samples created\n"
     ]
    }
   ],
   "source": [
    "# prepare training set of POSITIVE samples (similarity score == 1)\n",
    "bleurt_training_data = []\n",
    "subset = 300\n",
    "\n",
    "for entry in train_multi_evidence[:subset]: \n",
    "    try:\n",
    "        claim = entry['claim']\n",
    "        reference = entry['claim'] + \" \" + _get_evidence_text(entry[\"evidence\"][0])\n",
    "\n",
    "        for evidence_set in entry[\"evidence\"][1:]:\n",
    "            target = entry['claim'] + \" \" + _get_evidence_text(evidence_set)\n",
    "            if target != reference:\n",
    "                new_entry = POS_SAMPLE.copy()\n",
    "                new_entry['claim'] = entry['claim']\n",
    "                new_entry['reference'] = reference\n",
    "                new_entry['target'] = target\n",
    "                bleurt_training_data.append(new_entry)\n",
    "    except Exception as e: \n",
    "#         print(\"Exception for claim: {}\".format(claim))\n",
    "        continue\n",
    "\n",
    "print(\"For {} multi evidence entires, {} bleurt training samples created\".format(subset, \n",
    "                                                                                 len(bleurt_training_data)))"
   ]
  },
  {
   "cell_type": "code",
   "execution_count": 224,
   "id": "bc468c84",
   "metadata": {},
   "outputs": [
    {
     "name": "stdout",
     "output_type": "stream",
     "text": [
      "355 negative bleurt training samples created\n"
     ]
    }
   ],
   "source": [
    "# prepare training set of NEGATIVE samples (similarity score == 1)\n",
    "bleurt_training_data_neg_samples = []\n",
    "\n",
    "for entry in bleurt_training_data: \n",
    "    claim = entry['claim']\n",
    "    reference = entry['reference']\n",
    "    \n",
    "    while True:\n",
    "        # randomly select target from another entry which is for a different claim \n",
    "        rand_entry = random.sample(bleurt_training_data, 1)[0]\n",
    "        if rand_entry['claim'] != claim:\n",
    "            break\n",
    "    \n",
    "    new_entry = POS_SAMPLE.copy()\n",
    "    new_entry['claim'] = claim\n",
    "    new_entry['reference'] = reference\n",
    "    new_entry['target'] = claim + \" \" + \" \".join(rand_entry[\"reference\"].split()[1:])\n",
    "    new_entry['score'] = 0\n",
    "    bleurt_training_data_neg_samples.append(new_entry)\n",
    "\n",
    "print(\"{} negative bleurt training samples created\".format(len(bleurt_training_data_neg_samples)))  "
   ]
  },
  {
   "cell_type": "code",
   "execution_count": 225,
   "id": "29230165",
   "metadata": {},
   "outputs": [
    {
     "name": "stdout",
     "output_type": "stream",
     "text": [
      "710\n"
     ]
    }
   ],
   "source": [
    "# Extend bleurt trianing data with negative samples\n",
    "bleurt_training_data.extend(bleurt_training_data_neg_samples)\n",
    "print(len(bleurt_training_data))"
   ]
  },
  {
   "cell_type": "code",
   "execution_count": 226,
   "id": "cbfde899",
   "metadata": {},
   "outputs": [],
   "source": [
    "# save bleurt training data as jsonl file\n",
    "def to_dict(obj):\n",
    "    return json.loads(json.dumps(obj, default=lambda o: o.__dict__))\n",
    "\n",
    "def save_jsonl_file(data, file_path):\n",
    "    with open(file_path, \"w\", encoding=\"utf-8\") as f:\n",
    "        for entry in data:\n",
    "            json.dump(to_dict(entry), f)\n",
    "            f.write(\"\\n\")\n",
    "\n",
    "training_data_path = \"/Users/user/Library/CloudStorage/OneDrive-King'sCollegeLondon/PycharmProjects/fc-evidence-evaluation/data/reference_scorer_training_data\"\n",
    "\n",
    "save_jsonl_file(bleurt_training_data, os.path.join(training_data_path, \"fever_test_based.jsonl\"))\n"
   ]
  },
  {
   "cell_type": "code",
   "execution_count": null,
   "id": "312fd92a",
   "metadata": {},
   "outputs": [],
   "source": []
  },
  {
   "cell_type": "markdown",
   "id": "56c5bce6",
   "metadata": {},
   "source": [
    "### Averitec data preparation"
   ]
  },
  {
   "cell_type": "code",
   "execution_count": 34,
   "id": "1444b289",
   "metadata": {},
   "outputs": [],
   "source": [
    "# load averitec training data\n",
    "train_path = \"/Users/user/Library/CloudStorage/OneDrive-King'sCollegeLondon/PycharmProjects/fc-evidence-evaluation/data/averitec/averitec_train.json\"\n",
    "train = utils.load_averitec_base(train_path)"
   ]
  },
  {
   "cell_type": "code",
   "execution_count": 35,
   "id": "03f55873",
   "metadata": {},
   "outputs": [
    {
     "data": {
      "text/plain": [
       "AveritecEntry(claim='Hunter Biden had no experience in Ukraine or in the energy sector when he joined the board of Burisma.', label='Supported', justification='No former experience stated.', evidence=[AveritecQA(question='Did Hunter Biden have any experience in the energy sector at the time he joined the board of the  Burisma energy company in 2014', answers=[AveritecAnswer(answer='No', answer_type='Boolean', boolean_explanation=\"Hunter bidens previous career history does not include work for energy company's.\")]), AveritecQA(question='Did Hunter Biden have any experience in Ukraine at the time he joined the board of the  Burisma energy company in 2014', answers=[AveritecAnswer(answer='No', answer_type='Boolean', boolean_explanation=\"Hunter Bidens previous career history does not include working with Ukrainian company's.\")])])"
      ]
     },
     "execution_count": 35,
     "metadata": {},
     "output_type": "execute_result"
    }
   ],
   "source": [
    "train[0]"
   ]
  },
  {
   "cell_type": "code",
   "execution_count": null,
   "id": "44086a2c",
   "metadata": {},
   "outputs": [],
   "source": []
  },
  {
   "cell_type": "markdown",
   "id": "30cc8d84",
   "metadata": {},
   "source": [
    "### Synthetic data preparation"
   ]
  },
  {
   "cell_type": "code",
   "execution_count": null,
   "id": "3dfb54c5",
   "metadata": {},
   "outputs": [],
   "source": [
    "# TODO later "
   ]
  }
 ],
 "metadata": {
  "kernelspec": {
   "display_name": "Python 3 (ipykernel)",
   "language": "python",
   "name": "python3"
  },
  "language_info": {
   "codemirror_mode": {
    "name": "ipython",
    "version": 3
   },
   "file_extension": ".py",
   "mimetype": "text/x-python",
   "name": "python",
   "nbconvert_exporter": "python",
   "pygments_lexer": "ipython3",
   "version": "3.9.13"
  }
 },
 "nbformat": 4,
 "nbformat_minor": 5
}

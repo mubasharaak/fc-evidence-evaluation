{
 "cells": [
  {
   "cell_type": "code",
   "execution_count": 7,
   "id": "a3c61e9d",
   "metadata": {},
   "outputs": [],
   "source": [
    "import json\n",
    "import openai"
   ]
  },
  {
   "cell_type": "code",
   "execution_count": 3,
   "id": "cd9b05b2",
   "metadata": {},
   "outputs": [],
   "source": [
    "_KEY = open('/Users/user/Desktop/openai_key.txt', 'r').read()\n",
    "_CLIENT = openai.OpenAI(\n",
    "    api_key=_KEY,\n",
    "    timeout=10,\n",
    ")\n",
    "\n",
    "_PROMPT = \"\"\"\n",
    "You will get a claim and evidence which SUPPORTS the claim. Your task is to adjust the evidence such that the evidence refutes what is stated in the claim. \n",
    "---\n",
    "Examples: \n",
    "claim: The Ten Commandments is an epic film.\n",
    "evidence: The Ten Commandments is a 1956 American biblical epic film produced , directed , and narrated by Cecil B. DeMille , shot in VistaVision -LRB- color by Technicolor -RRB- , and released by Paramount Pictures .\n",
    "adjusted evidence: The ten commandments were given to Moses by God.\n",
    "\n",
    "claim: Brad Pitt and his wife Angelina Jolie were a Hollywood couple.\n",
    "evidence: Angelina is divorced from actors Jonny Lee Miller, Billy Bob Thornton and Brad Pitt. She has six children with Pitt, three of whom were adopted internationally.\n",
    "adjusted evidence: Brad and Angelina are a happily married Hollywood couple that has six children.\n",
    "---\n",
    "Please complete: \n",
    "claim: {}\n",
    "evidence: {}\n",
    "adjusted evidence:\"\"\""
   ]
  },
  {
   "cell_type": "code",
   "execution_count": 4,
   "id": "ce5ca814",
   "metadata": {},
   "outputs": [],
   "source": [
    "def load_jsonl_file(file_path):\n",
    "    content = []\n",
    "    with open(file_path, \"r\", encoding=\"utf-8\") as f:\n",
    "        for entry in f.readlines():\n",
    "            content.append(json.loads(entry))\n",
    "    return content\n"
   ]
  },
  {
   "cell_type": "code",
   "execution_count": 9,
   "id": "2595eb61",
   "metadata": {},
   "outputs": [
    {
     "name": "stdout",
     "output_type": "stream",
     "text": [
      "3428 entries loaded\n",
      "1714 entries filtered\n"
     ]
    }
   ],
   "source": [
    "# load pretraining dataset\n",
    "training_data_path = \"/Users/user/Library/CloudStorage/OneDrive-King'sCollegeLondon/PycharmProjects/fc-evidence-evaluation/data/reference_scorer_training_data/fever_train_based.jsonl\"\n",
    "pretraining_data = load_jsonl_file(training_data_path)\n",
    "print(\"{} entries loaded\".format(len(pretraining_data)))\n",
    "\n",
    "# filter entries with scores = 1\n",
    "pretraining_data = [entry for entry in pretraining_data if entry['score']==1]# and entry['label']=='SUPPORTS']\n",
    "print(\"{} entries filtered\".format(len(pretraining_data)))\n"
   ]
  },
  {
   "cell_type": "code",
   "execution_count": 11,
   "id": "a349bc7f",
   "metadata": {},
   "outputs": [
    {
     "data": {
      "text/plain": [
       "{'claim': 'The Ten Commandments is an epic film.',\n",
       " 'reference': 'The Ten Commandments is an epic film. The Ten Commandments is a 1956 American biblical epic film produced , directed , and narrated by Cecil B. DeMille , shot in VistaVision -LRB- color by Technicolor -RRB- , and released by Paramount Pictures .',\n",
       " 'target': 'The Ten Commandments is an epic film. The film was listed as the tenth best film in the epic genre .',\n",
       " 'score': 1}"
      ]
     },
     "execution_count": 11,
     "metadata": {},
     "output_type": "execute_result"
    }
   ],
   "source": [
    "pretraining_data[0]"
   ]
  },
  {
   "cell_type": "code",
   "execution_count": null,
   "id": "f246ce13",
   "metadata": {},
   "outputs": [],
   "source": [
    "# prompt \n",
    "\n",
    "\n",
    "\n"
   ]
  },
  {
   "cell_type": "code",
   "execution_count": null,
   "id": "adbe3eb0",
   "metadata": {},
   "outputs": [],
   "source": []
  },
  {
   "cell_type": "code",
   "execution_count": null,
   "id": "b85cc7e5",
   "metadata": {},
   "outputs": [],
   "source": []
  }
 ],
 "metadata": {
  "kernelspec": {
   "display_name": "Python 3 (ipykernel)",
   "language": "python",
   "name": "python3"
  },
  "language_info": {
   "codemirror_mode": {
    "name": "ipython",
    "version": 3
   },
   "file_extension": ".py",
   "mimetype": "text/x-python",
   "name": "python",
   "nbconvert_exporter": "python",
   "pygments_lexer": "ipython3",
   "version": "3.9.13"
  }
 },
 "nbformat": 4,
 "nbformat_minor": 5
}

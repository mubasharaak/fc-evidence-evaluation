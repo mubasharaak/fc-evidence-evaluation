{
 "cells": [
  {
   "cell_type": "code",
   "execution_count": 45,
   "id": "d7cdaf13",
   "metadata": {},
   "outputs": [],
   "source": [
    "import json\n",
    "import os\n",
    "import pandas as pd\n",
    "import string \n",
    "import pandas as pd \n",
    "\n",
    "from itertools import groupby\n",
    "from operator import itemgetter"
   ]
  },
  {
   "cell_type": "code",
   "execution_count": 15,
   "id": "df03d5b8",
   "metadata": {},
   "outputs": [],
   "source": [
    "# VARIABLES\n",
    "SPLIT = \"test\"\n",
    "\n",
    "PATH_FC = \"/Users/user/Library/CloudStorage/OneDrive-King'sCollegeLondon/PycharmProjects/fc-evidence-evaluation/data/vitaminc_factchecking/{}.jsonl\".format(SPLIT)\n",
    "PATH_REVISION = \"/Users/user/Library/CloudStorage/OneDrive-King'sCollegeLondon/PycharmProjects/fc-evidence-evaluation/data/vitaminc_flagging/{}.jsonl\".format(SPLIT)\n",
    "\n",
    "SAMPLE = {\n",
    "    \"claim\": \"\",\n",
    "    \"reference\": \"\",\n",
    "    \"target\": \"\",\n",
    "    \"score\": None,\n",
    "    \"label\": None\n",
    "}"
   ]
  },
  {
   "cell_type": "code",
   "execution_count": 3,
   "id": "4f17a2e9",
   "metadata": {},
   "outputs": [],
   "source": [
    "def load_jsonl_file(file_path, dataclass=None):\n",
    "    content = []\n",
    "    with open(file_path, \"r\", encoding=\"utf-8\") as f:\n",
    "        for entry in f.readlines():\n",
    "            if dataclass:\n",
    "                content.append(dacite.from_dict(data_class=dataclass, data=json.loads(entry)))\n",
    "            else:\n",
    "                content.append(json.loads(entry))\n",
    "    return content\n"
   ]
  },
  {
   "cell_type": "code",
   "execution_count": 4,
   "id": "0d0c4905",
   "metadata": {},
   "outputs": [],
   "source": [
    "fc_data = load_jsonl_file(PATH_FC)\n",
    "fc_revision = load_jsonl_file(PATH_REVISION)"
   ]
  },
  {
   "cell_type": "code",
   "execution_count": 47,
   "id": "10522bff",
   "metadata": {},
   "outputs": [
    {
     "data": {
      "text/html": [
       "<div>\n",
       "<style scoped>\n",
       "    .dataframe tbody tr th:only-of-type {\n",
       "        vertical-align: middle;\n",
       "    }\n",
       "\n",
       "    .dataframe tbody tr th {\n",
       "        vertical-align: top;\n",
       "    }\n",
       "\n",
       "    .dataframe thead th {\n",
       "        text-align: right;\n",
       "    }\n",
       "</style>\n",
       "<table border=\"1\" class=\"dataframe\">\n",
       "  <thead>\n",
       "    <tr style=\"text-align: right;\">\n",
       "      <th></th>\n",
       "      <th>unique_id</th>\n",
       "      <th>case_id</th>\n",
       "      <th>wiki_revision_id</th>\n",
       "      <th>label</th>\n",
       "      <th>claim</th>\n",
       "      <th>evidence</th>\n",
       "      <th>page</th>\n",
       "      <th>revision_type</th>\n",
       "      <th>FEVER_id</th>\n",
       "    </tr>\n",
       "  </thead>\n",
       "  <tbody>\n",
       "    <tr>\n",
       "      <th>0</th>\n",
       "      <td>5ed4de07c9e77c000848a180_1</td>\n",
       "      <td>5ed4de07c9e77c000848a180</td>\n",
       "      <td>927477259</td>\n",
       "      <td>NOT ENOUGH INFO</td>\n",
       "      <td>Westlife made under 23.5 million sales in the ...</td>\n",
       "      <td>According to the British Phonographic Industry...</td>\n",
       "      <td>Westlife</td>\n",
       "      <td>real</td>\n",
       "      <td>NaN</td>\n",
       "    </tr>\n",
       "    <tr>\n",
       "      <th>1</th>\n",
       "      <td>5ed4de07c9e77c000848a180_2</td>\n",
       "      <td>5ed4de07c9e77c000848a180</td>\n",
       "      <td>927477259</td>\n",
       "      <td>REFUTES</td>\n",
       "      <td>Westlife made under 23.5 million sales in the ...</td>\n",
       "      <td>According to the British Phonographic Industry...</td>\n",
       "      <td>Westlife</td>\n",
       "      <td>real</td>\n",
       "      <td>NaN</td>\n",
       "    </tr>\n",
       "    <tr>\n",
       "      <th>2</th>\n",
       "      <td>5ed4de07c9e77c000848a180_3</td>\n",
       "      <td>5ed4de07c9e77c000848a180</td>\n",
       "      <td>927477259</td>\n",
       "      <td>NOT ENOUGH INFO</td>\n",
       "      <td>Westlife sold more than 1 million video albums...</td>\n",
       "      <td>According to the British Phonographic Industry...</td>\n",
       "      <td>Westlife</td>\n",
       "      <td>real</td>\n",
       "      <td>NaN</td>\n",
       "    </tr>\n",
       "  </tbody>\n",
       "</table>\n",
       "</div>"
      ],
      "text/plain": [
       "                    unique_id                   case_id wiki_revision_id  \\\n",
       "0  5ed4de07c9e77c000848a180_1  5ed4de07c9e77c000848a180        927477259   \n",
       "1  5ed4de07c9e77c000848a180_2  5ed4de07c9e77c000848a180        927477259   \n",
       "2  5ed4de07c9e77c000848a180_3  5ed4de07c9e77c000848a180        927477259   \n",
       "\n",
       "             label                                              claim  \\\n",
       "0  NOT ENOUGH INFO  Westlife made under 23.5 million sales in the ...   \n",
       "1          REFUTES  Westlife made under 23.5 million sales in the ...   \n",
       "2  NOT ENOUGH INFO  Westlife sold more than 1 million video albums...   \n",
       "\n",
       "                                            evidence      page revision_type  \\\n",
       "0  According to the British Phonographic Industry...  Westlife          real   \n",
       "1  According to the British Phonographic Industry...  Westlife          real   \n",
       "2  According to the British Phonographic Industry...  Westlife          real   \n",
       "\n",
       "  FEVER_id  \n",
       "0      NaN  \n",
       "1      NaN  \n",
       "2      NaN  "
      ]
     },
     "execution_count": 47,
     "metadata": {},
     "output_type": "execute_result"
    }
   ],
   "source": [
    "df_fc_data = pd.DataFrame.from_dict(fc_data)\n",
    "\n",
    "df_fc_data.head(3)"
   ]
  },
  {
   "cell_type": "markdown",
   "id": "d2f1cc1c",
   "metadata": {},
   "source": [
    "### Create examples with score==0"
   ]
  },
  {
   "cell_type": "code",
   "execution_count": 6,
   "id": "60b21c2c",
   "metadata": {},
   "outputs": [],
   "source": [
    "# sort by multiple evidence \n",
    "fc_data_sorted = sorted(fc_data, key = itemgetter('claim'))\n",
    "fc_data_grouped = groupby(fc_data_sorted, key = itemgetter('claim'))"
   ]
  },
  {
   "cell_type": "code",
   "execution_count": 9,
   "id": "ea0554be",
   "metadata": {},
   "outputs": [
    {
     "name": "stdout",
     "output_type": "stream",
     "text": [
      "'The Quiet ' is a film .\n",
      "<itertools._grouper object at 0x7fbdd10de670>\n",
      "<itertools._grouper object at 0x7fbdd10de670>\n"
     ]
    }
   ],
   "source": [
    "for key, value in groupby(fc_data_sorted, key = itemgetter('claim')):\n",
    "    print(key)\n",
    "    for v in value:\n",
    "        print(value)\n",
    "    break"
   ]
  },
  {
   "cell_type": "code",
   "execution_count": 17,
   "id": "223306cc",
   "metadata": {},
   "outputs": [],
   "source": [
    "def map_dataset_sample(ref_entry, target_entry, score):\n",
    "    entry_output = SAMPLE.copy()\n",
    "    entry_output['claim'] = target_entry['claim']\n",
    "    entry_output['reference'] = \"{} {}\".format(target_entry['claim'], ref_entry['evidence'])\n",
    "    entry_output['target'] = \"{} {}\".format(target_entry['claim'], target_entry['evidence'])\n",
    "    entry_output['score'] = score\n",
    "    entry_output['label'] = target_entry['label']\n",
    "    \n",
    "    return entry_output\n"
   ]
  },
  {
   "cell_type": "code",
   "execution_count": 27,
   "id": "7ceb2967",
   "metadata": {},
   "outputs": [
    {
     "data": {
      "text/plain": [
       "27499"
      ]
     },
     "execution_count": 27,
     "metadata": {},
     "output_type": "execute_result"
    }
   ],
   "source": [
    "def key_func(k):\n",
    "    return k['claim']\n",
    "\n",
    "i = 0\n",
    "ds_samples = []\n",
    "fc_data_sorted = sorted(fc_data, key = key_func)\n",
    "\n",
    "for key, values in groupby(fc_data_sorted, key_func):        \n",
    "    first_value = None\n",
    "    for value in values:\n",
    "        if not first_value: \n",
    "            first_value = value\n",
    "            continue\n",
    "        if value['label'] == first_value['label']:\n",
    "            continue\n",
    "        # only entries with different evidence such that label flips \n",
    "        ds_samples.append(map_dataset_sample(first_value, value, score=0))\n",
    "\n",
    "len(ds_samples)"
   ]
  },
  {
   "cell_type": "markdown",
   "id": "60ab4225",
   "metadata": {},
   "source": [
    "### Create examples with score == 1"
   ]
  },
  {
   "cell_type": "code",
   "execution_count": 130,
   "id": "b2331653",
   "metadata": {},
   "outputs": [],
   "source": [
    "special_chars = [\n",
    "    \",\",\n",
    "    \".\",\n",
    "    \"(\",\n",
    "    \")\",\n",
    "    \"'\",\n",
    "]"
   ]
  },
  {
   "cell_type": "code",
   "execution_count": 131,
   "id": "a814ff58",
   "metadata": {},
   "outputs": [],
   "source": [
    "def add_whitespace(sent: str):\n",
    "    for char in special_chars: \n",
    "        sent = sent.replace(char, \" {} \".format(char)).replace(\"  \", \" \")\n",
    "    print(sent+\"\\n\")\n",
    "    return sent"
   ]
  },
  {
   "cell_type": "code",
   "execution_count": 132,
   "id": "c0fd560a",
   "metadata": {},
   "outputs": [],
   "source": [
    "def find_in_fc_data(evidence_sent, df): \n",
    "    evid_w_whitespace = add_whitespace(evidence_sent)\n",
    "    if evid_w_whitespace in list(df['evidence']):\n",
    "        return df.loc[df['evidence']==evid_w_whitespace]\n",
    "        \n",
    "    return None"
   ]
  },
  {
   "cell_type": "code",
   "execution_count": 133,
   "id": "4f900855",
   "metadata": {},
   "outputs": [],
   "source": [
    "def map_dataset_sample_revision(fc_entry, revision_sent_a, revision_sent_b, score):\n",
    "    entry_output = SAMPLE.copy()\n",
    "    entry_output['claim'] = fc_entry['claim']\n",
    "    entry_output['reference'] = \"{} {}\".format(fc_entry['claim'], revision_sent_a)\n",
    "    entry_output['target'] = \"{} {}\".format(fc_entry['claim'], revision_sent_b)\n",
    "    entry_output['score'] = score\n",
    "    entry_output['label'] = fc_entry['label']\n",
    "    \n",
    "    return entry_output\n"
   ]
  },
  {
   "cell_type": "code",
   "execution_count": 134,
   "id": "c35a3e7b",
   "metadata": {},
   "outputs": [
    {
     "name": "stdout",
     "output_type": "stream",
     "text": [
      "19730 non-factual revisions out of 31048\n",
      "Hickman was reunited with Mickey Rooney with whom he had acted alongside in the Boys Town sequel Men of Boys Town in 1941 . Hickman ' s book about acting techniques The Unconscious Actor: Out of Control , In Full Command] , was published in April 2007 . \n",
      "\n",
      "Hickman was reunited with guest-star Mickey Rooney with whom he had acted alongside in the Boys Town sequel Men of Boys Town in 1941 . Hickman ' s book about acting techniques The Unconscious Actor: Out of Control , In Full Command] , was published in April 2007 . \n",
      "\n",
      "Casiraghi completed two internships , firstly with the publishing house of Pierre Laffont in Paris , and then later in October 2007 , with the Sunday magazine supplement of The Independent newspaper of London . \n",
      "\n",
      "Casiraghi completed two internships , first with the publishing house of Pierre Laffont in Paris and then in October 2007 with the Sunday magazine supplement of The Independent newspaper of London . \n",
      "\n",
      "On Metacritic the film has a score of 59 out of 100 , based on 13 critics , indicating \"mixed or average reviews\" . \n",
      "\n",
      "On Metacritic the film has a score of 58 out of 100 , based on 14 critics , indicating \"mixed or average reviews\" . \n",
      "\n",
      "As of , the Ministry of Health and Family Welfare of Assam has confirmed a total of 35 positive cases of Covid-19 including 19 recoveries and one death in the state . \n",
      "\n",
      "As of , the Ministry of Health and Family Welfare of Assam has confirmed a total of 35 positive cases of Covid19 including 19 recoveries and one death in the state . \n",
      "\n",
      "In essence , each study discussed in this meta-analysis yields a statistically significant , positive change among subjects with borderline personality disorder . \n",
      "\n",
      "In essence , each study discussed in this meta-analysis yields a statistically significant , positive change among subjects with borderline personality disorder , as displayed in the table below . \n",
      "\n",
      "On 19 March , the interest rate was again cut this time to 0 . 10% – the lowest rate in the bank ' s 325 year existence . \n",
      "\n",
      "On 19 March , the interest rate was again cut this time to 0 . 10% – the lowest rate in the bank ' s 325-year existence . \n",
      "\n",
      "Mother Superior in The Romance of the Forest – Adeline fled from this convent because the sisters weren’t allowed to see sunlight . \n",
      "\n",
      "Mother Superior in The Romance of the Forest – Adeline fled from this convent because the sisters weren ' t allowed to see sunlight . \n",
      "\n",
      "The channel , whose name is a concatenation of MKB ( Brownlee ' s initials ) and HD ( for high-definition ) , has over 8 . 1 million subscribers and over 1 billion total video views . \n",
      "\n",
      "The channel , whose name is a concatenation of MKB ( Brownlee ' s initials ) and HD ( for high-definition ) , has over 8 . 2 million subscribers and over 1 billion total video views . \n",
      "\n",
      "Universtiy of Massachusetts Boston Interm Chancellor Katherine Newman addressed the situation as \"business as usual\" in a campus wide email . \n",
      "\n",
      "Universtiy of Massachusetts Boston Interim Chancellor Katherine Newman addressed the situation as \"business as usual\" in a campus wide email . \n",
      "\n",
      "High school and college officials wear socks with a \"Northwestern stripe\" pattern , while NFL officials wear socks with two white stripes bordering one black stripe . \n",
      "\n",
      "If wearing knickers , high school officials wear socks with a \"Northwestern stripe\" pattern , which college officials used to wear; NFL officials wore socks with two white stripes bordering one black stripe . \n",
      "\n"
     ]
    }
   ],
   "source": [
    "# exmaples with non-factual changes \n",
    "fc_revision_non_fact = [entry for entry in fc_revision if entry['label']=='not factual']\n",
    "print(\"{} non-factual revisions out of {}\".format(len(fc_revision_non_fact), len(fc_revision)))\n",
    "\n",
    "ds_samples = []\n",
    "for entry in fc_revision_non_fact[:10]:\n",
    "    # find sentence a or b in fc_data\n",
    "    match = find_in_fc_data(entry['sent_a'], df_fc_data)\n",
    "    if not match:\n",
    "        match = find_in_fc_data(entry['sent_b'], df_fc_data)\n",
    "            \n",
    "    if match:\n",
    "        # create example\n",
    "        ds_samples.append(map_dataset_sample_revision(match, score=1))        \n",
    "#         ds_samples.append(map_dataset_sample_revision(match, entry['sent_a'], entry['sent_b'], score=1))"
   ]
  },
  {
   "cell_type": "code",
   "execution_count": 135,
   "id": "b215dba7",
   "metadata": {},
   "outputs": [
    {
     "data": {
      "text/plain": [
       "0"
      ]
     },
     "execution_count": 135,
     "metadata": {},
     "output_type": "execute_result"
    }
   ],
   "source": [
    "len(ds_samples)"
   ]
  },
  {
   "cell_type": "code",
   "execution_count": 114,
   "id": "e04b18b0",
   "metadata": {},
   "outputs": [
    {
     "name": "stdout",
     "output_type": "stream",
     "text": [
      "The channel , whose name is a concatenation of MKB ( Brownlee ' s initials ) and HD ( for high - definition ) , has over 8 . 1 million subscribers and over 1 billion total video views .\n"
     ]
    }
   ],
   "source": [
    "print(\"The channel , whose name is a concatenation of MKB ( Brownlee ' s initials ) and HD ( for high - definition ) , has over 8 . 1 million subscribers and over 1 billion total video views .\")"
   ]
  },
  {
   "cell_type": "code",
   "execution_count": 115,
   "id": "ee6c00b0",
   "metadata": {},
   "outputs": [
    {
     "name": "stdout",
     "output_type": "stream",
     "text": [
      "The channel , whose name is a concatenation of MKB ( Brownlee 's initials ) and HD ( for high-definition ) , has over 8.57 million subscribers and over 1.29 billion total video views .\n"
     ]
    }
   ],
   "source": [
    "print(\"The channel , whose name is a concatenation of MKB ( Brownlee 's initials ) and HD ( for high-definition ) , has over 8.57 million subscribers and over 1.29 billion total video views .\")"
   ]
  },
  {
   "cell_type": "code",
   "execution_count": null,
   "id": "d1dc1d12",
   "metadata": {},
   "outputs": [],
   "source": []
  },
  {
   "cell_type": "code",
   "execution_count": null,
   "id": "832efb18",
   "metadata": {},
   "outputs": [],
   "source": []
  },
  {
   "cell_type": "code",
   "execution_count": 91,
   "id": "d8705eb4",
   "metadata": {},
   "outputs": [],
   "source": [
    "test = \"test, test. (test)\""
   ]
  },
  {
   "cell_type": "code",
   "execution_count": 92,
   "id": "e1d8b126",
   "metadata": {},
   "outputs": [],
   "source": [
    "for char in string.punctuation: \n",
    "    test = test.replace(char, \" {} \".format(char)).replace(\"  \", \" \")"
   ]
  },
  {
   "cell_type": "code",
   "execution_count": 93,
   "id": "c5bf0377",
   "metadata": {},
   "outputs": [
    {
     "data": {
      "text/plain": [
       "'test , test . ( test ) '"
      ]
     },
     "execution_count": 93,
     "metadata": {},
     "output_type": "execute_result"
    }
   ],
   "source": [
    "test"
   ]
  },
  {
   "cell_type": "code",
   "execution_count": null,
   "id": "cd80837c",
   "metadata": {},
   "outputs": [],
   "source": []
  },
  {
   "cell_type": "code",
   "execution_count": null,
   "id": "bdb68224",
   "metadata": {},
   "outputs": [],
   "source": []
  },
  {
   "cell_type": "code",
   "execution_count": null,
   "id": "c1a26ccd",
   "metadata": {},
   "outputs": [],
   "source": []
  },
  {
   "cell_type": "code",
   "execution_count": null,
   "id": "0c63f684",
   "metadata": {},
   "outputs": [],
   "source": []
  },
  {
   "cell_type": "code",
   "execution_count": null,
   "id": "92c6c886",
   "metadata": {},
   "outputs": [],
   "source": []
  }
 ],
 "metadata": {
  "kernelspec": {
   "display_name": "Python 3 (ipykernel)",
   "language": "python",
   "name": "python3"
  },
  "language_info": {
   "codemirror_mode": {
    "name": "ipython",
    "version": 3
   },
   "file_extension": ".py",
   "mimetype": "text/x-python",
   "name": "python",
   "nbconvert_exporter": "python",
   "pygments_lexer": "ipython3",
   "version": "3.9.13"
  }
 },
 "nbformat": 4,
 "nbformat_minor": 5
}
